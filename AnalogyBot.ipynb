{
 "cells": [
  {
   "cell_type": "code",
   "execution_count": 1,
   "metadata": {
    "ExecuteTime": {
     "end_time": "2019-02-28T20:50:15.938638Z",
     "start_time": "2019-02-28T20:50:13.462043Z"
    }
   },
   "outputs": [],
   "source": [
    "import pandas as pd\n",
    "import spacy\n",
    "from glob import glob\n",
    "# import word2vec\n",
    "# import gensim\n",
    "# from gensim.test.utils import common_texts\n",
    "# from gensim.models import Word2Vec\n",
    "from sklearn.manifold import TSNE\n",
    "from sklearn.decomposition import PCA\n",
    "from matplotlib import pyplot as plt\n",
    "import json\n",
    "from mpl_toolkits.mplot3d import Axes3D, proj3d\n",
    "from numpy import dot\n",
    "from numpy.linalg import norm\n",
    "%matplotlib notebook\n",
    "plt.rcParams[\"figure.figsize\"] = (12,8)"
   ]
  },
  {
   "cell_type": "code",
   "execution_count": 2,
   "metadata": {
    "ExecuteTime": {
     "end_time": "2019-02-28T20:50:27.714218Z",
     "start_time": "2019-02-28T20:50:16.780606Z"
    }
   },
   "outputs": [],
   "source": [
    "nlp = spacy.load('en_core_web_lg')"
   ]
  },
  {
   "cell_type": "markdown",
   "metadata": {},
   "source": [
    "# Advanced Topics in Word Embeddings\n",
    "\n",
    "## NYCDH Week, February 2019\n",
    "\n",
    "Here are some more resources for getting started: \n",
    "\n",
    "- [A classic primer on Word Embeddings, from Google (uses TensorFlow)](https://www.tensorflow.org/tutorials/representation/word2vec)\n",
    "- [Another word2vec tutorial using TensorFlow](https://adventuresinmachinelearning.com/word2vec-tutorial-tensorflow/)\n",
    "- [The original documentation of word2vec](https://code.google.com/archive/p/word2vec/)\n",
    "- [Spacy Docs on vector similarity](https://spacy.io/usage/vectors-similarity)\n",
    "- [Gensim Docs](https://radimrehurek.com/gensim/models/keyedvectors.html)\n",
    "\n",
    "\n",
    "For getting started in NLP more generally, here are two notebooks of mine: \n",
    "\n",
    "- [Introduction to Text Analysis](https://github.com/JonathanReeve/dataviz-workshop-2017)\n",
    "- [Advanced Text Analysis Workshop](https://github.com/JonathanReeve/advanced-text-analysis-workshop-2017)\n",
    "\n",
    "## An Example of Document Vectors: Project Gutenberg\n",
    "\n",
    "![First 30 Books of Project Gutenberg](example-gut.png)"
   ]
  },
  {
   "cell_type": "markdown",
   "metadata": {},
   "source": [
    "# Word Vector Similarity"
   ]
  },
  {
   "cell_type": "code",
   "execution_count": 60,
   "metadata": {
    "ExecuteTime": {
     "end_time": "2019-02-06T16:28:21.951958Z",
     "start_time": "2019-02-06T16:28:21.920214Z"
    }
   },
   "outputs": [],
   "source": [
    "africanSwallow = nlp('African swallow')\n",
    "europeanSwallow = nlp('European swallow')\n",
    "coconut = nlp('coconut')"
   ]
  },
  {
   "cell_type": "code",
   "execution_count": 61,
   "metadata": {
    "ExecuteTime": {
     "end_time": "2019-02-06T16:28:23.234621Z",
     "start_time": "2019-02-06T16:28:23.228092Z"
    }
   },
   "outputs": [
    {
     "data": {
      "text/plain": [
       "0.8596378859289445"
      ]
     },
     "execution_count": 61,
     "metadata": {},
     "output_type": "execute_result"
    }
   ],
   "source": [
    "africanSwallow.similarity(europeanSwallow)"
   ]
  },
  {
   "cell_type": "code",
   "execution_count": 6,
   "metadata": {
    "ExecuteTime": {
     "end_time": "2019-02-06T15:44:27.985004Z",
     "start_time": "2019-02-06T15:44:27.979214Z"
    }
   },
   "outputs": [
    {
     "data": {
      "text/plain": [
       "0.29012316320087245"
      ]
     },
     "execution_count": 6,
     "metadata": {},
     "output_type": "execute_result"
    }
   ],
   "source": [
    "africanSwallow.similarity(coconut)"
   ]
  },
  {
   "cell_type": "code",
   "execution_count": 7,
   "metadata": {
    "ExecuteTime": {
     "end_time": "2019-02-06T15:44:38.869970Z",
     "start_time": "2019-02-06T15:44:38.866321Z"
    }
   },
   "outputs": [],
   "source": [
    "def similarity(vecA, vecB):\n",
    "    return dot(vecA, vecB) / (norm(vecA, ord=2) * norm(vecB, ord=2))"
   ]
  },
  {
   "cell_type": "markdown",
   "metadata": {},
   "source": [
    "Gets most similar words"
   ]
  },
  {
   "cell_type": "code",
   "execution_count": 11,
   "metadata": {
    "ExecuteTime": {
     "end_time": "2019-02-06T15:48:48.231419Z",
     "start_time": "2019-02-06T15:48:48.226697Z"
    }
   },
   "outputs": [],
   "source": [
    "def mostSimilar(vec):\n",
    "    highestSimilarities = [0]\n",
    "    highestWords = [\"\"]\n",
    "    for w in nlp.vocab:\n",
    "        sim = similarity(vec, w.vector)\n",
    "        if sim > highestSimilarities[-1]:\n",
    "            highestSimilarities.append(sim)\n",
    "            highestWords.append(w.text.lower())\n",
    "    return list(zip(highestWords, highestSimilarities))[-10:]"
   ]
  },
  {
   "cell_type": "markdown",
   "metadata": {},
   "source": [
    "# Analogy Bot "
   ]
  },
  {
   "cell_type": "code",
   "execution_count": 62,
   "metadata": {
    "ExecuteTime": {
     "end_time": "2019-02-06T16:28:29.389483Z",
     "start_time": "2019-02-06T16:28:29.371114Z"
    }
   },
   "outputs": [
    {
     "data": {
      "text/plain": [
       "[('', 0), ('truth', 0.06349843), ('want', 0.18007132)]"
      ]
     },
     "execution_count": 62,
     "metadata": {},
     "output_type": "execute_result"
    }
   ],
   "source": [
    "sql = nlp('sql')\n",
    "mostSimilar(sql.vector)"
   ]
  },
  {
   "cell_type": "code",
   "execution_count": 63,
   "metadata": {
    "ExecuteTime": {
     "end_time": "2019-02-06T16:28:30.690318Z",
     "start_time": "2019-02-06T16:28:30.670215Z"
    },
    "scrolled": true
   },
   "outputs": [
    {
     "data": {
      "text/plain": [
       "[('', 0),\n",
       " ('truth', 0.19171838),\n",
       " ('want', 0.25615644),\n",
       " ('property', 0.2976224),\n",
       " ('one', 0.31229097)]"
      ]
     },
     "execution_count": 63,
     "metadata": {},
     "output_type": "execute_result"
    }
   ],
   "source": [
    "data = nlp('data')\n",
    "mostSimilar(data.vector)"
   ]
  },
  {
   "cell_type": "code",
   "execution_count": 65,
   "metadata": {
    "ExecuteTime": {
     "end_time": "2019-02-06T16:29:34.439254Z",
     "start_time": "2019-02-06T16:29:34.423564Z"
    }
   },
   "outputs": [
    {
     "data": {
      "text/plain": [
       "[('', 0), ('truth', 0.44312733)]"
      ]
     },
     "execution_count": 65,
     "metadata": {},
     "output_type": "execute_result"
    }
   ],
   "source": [
    "data = nlp('science')\n",
    "mostSimilar(data.vector)"
   ]
  },
  {
   "cell_type": "code",
   "execution_count": 12,
   "metadata": {
    "ExecuteTime": {
     "end_time": "2019-02-06T15:49:14.829545Z",
     "start_time": "2019-02-06T15:48:55.006140Z"
    }
   },
   "outputs": [
    {
     "name": "stderr",
     "output_type": "stream",
     "text": [
      "/anaconda3/envs/tensorflow/lib/python3.6/site-packages/ipykernel_launcher.py:2: RuntimeWarning: invalid value encountered in float_scalars\n",
      "  \n"
     ]
    },
    {
     "data": {
      "text/plain": [
       "[('croup', 0.06349667),\n",
       " ('deceased', 0.11223719),\n",
       " ('jambalaya', 0.14376067),\n",
       " ('cobra', 0.17929555),\n",
       " ('addax', 0.18801448),\n",
       " ('tanzania', 0.25093195),\n",
       " ('rhinos', 0.3014531),\n",
       " ('lioness', 0.34080425),\n",
       " ('giraffe', 0.37119302),\n",
       " ('african', 0.5032688)]"
      ]
     },
     "execution_count": 12,
     "metadata": {},
     "output_type": "execute_result"
    }
   ],
   "source": [
    "mostSimilar(swallowArithmetic)"
   ]
  },
  {
   "cell_type": "code",
   "execution_count": 13,
   "metadata": {
    "ExecuteTime": {
     "end_time": "2019-02-06T15:49:49.476843Z",
     "start_time": "2019-02-06T15:49:28.030167Z"
    }
   },
   "outputs": [
    {
     "name": "stderr",
     "output_type": "stream",
     "text": [
      "/anaconda3/envs/tensorflow/lib/python3.6/site-packages/ipykernel_launcher.py:2: RuntimeWarning: invalid value encountered in float_scalars\n",
      "  \n"
     ]
    },
    {
     "data": {
      "text/plain": [
       "[('jambalaya', 0.24809696),\n",
       " ('tawny', 0.25790486),\n",
       " ('concentrate', 0.35225457),\n",
       " ('lasagna', 0.36302274),\n",
       " ('puddings', 0.4095627),\n",
       " ('peel', 0.47492552),\n",
       " ('eucalyptus', 0.48999348),\n",
       " ('carob', 0.5774758),\n",
       " ('peanut', 0.6609558),\n",
       " ('coconut', 1.0000001)]"
      ]
     },
     "execution_count": 13,
     "metadata": {},
     "output_type": "execute_result"
    }
   ],
   "source": [
    "mostSimilar(coconut.vector)"
   ]
  },
  {
   "cell_type": "code",
   "execution_count": 14,
   "metadata": {
    "ExecuteTime": {
     "end_time": "2019-02-06T15:49:54.075545Z",
     "start_time": "2019-02-06T15:49:54.035145Z"
    }
   },
   "outputs": [],
   "source": [
    "king, queen, woman, man = [nlp(w).vector for w in ['king', 'queen', 'woman', 'man']]"
   ]
  },
  {
   "cell_type": "code",
   "execution_count": 15,
   "metadata": {
    "ExecuteTime": {
     "end_time": "2019-02-06T15:49:59.510122Z",
     "start_time": "2019-02-06T15:49:59.505917Z"
    }
   },
   "outputs": [],
   "source": [
    "answer = king - man + woman"
   ]
  },
  {
   "cell_type": "code",
   "execution_count": 16,
   "metadata": {
    "ExecuteTime": {
     "end_time": "2019-02-06T15:50:22.428564Z",
     "start_time": "2019-02-06T15:50:01.727079Z"
    }
   },
   "outputs": [
    {
     "name": "stderr",
     "output_type": "stream",
     "text": [
      "/anaconda3/envs/tensorflow/lib/python3.6/site-packages/ipykernel_launcher.py:2: RuntimeWarning: invalid value encountered in float_scalars\n",
      "  \n"
     ]
    },
    {
     "data": {
      "text/plain": [
       "[('gorey', 0.034739517),\n",
       " ('deceased', 0.2673984),\n",
       " ('peasant', 0.3268029),\n",
       " ('guardian', 0.32859263),\n",
       " ('comforter', 0.346274),\n",
       " ('virgins', 0.35614407),\n",
       " ('kissing', 0.3649173),\n",
       " ('woman', 0.51508135),\n",
       " ('kingdom', 0.55209816),\n",
       " ('king', 0.8024261)]"
      ]
     },
     "execution_count": 16,
     "metadata": {},
     "output_type": "execute_result"
    }
   ],
   "source": [
    "mostSimilar(answer)"
   ]
  },
  {
   "cell_type": "code",
   "execution_count": 17,
   "metadata": {
    "ExecuteTime": {
     "end_time": "2019-02-06T15:51:22.565725Z",
     "start_time": "2019-02-06T15:50:59.935074Z"
    }
   },
   "outputs": [
    {
     "name": "stderr",
     "output_type": "stream",
     "text": [
      "/anaconda3/envs/tensorflow/lib/python3.6/site-packages/ipykernel_launcher.py:2: RuntimeWarning: invalid value encountered in float_scalars\n",
      "  \n"
     ]
    },
    {
     "data": {
      "text/plain": [
       "[('orlando', 0.48517892),\n",
       " ('dresden', 0.5117479),\n",
       " ('warsaw', 0.56286174),\n",
       " ('stuttgart', 0.5869507),\n",
       " ('vienna', 0.60860515),\n",
       " ('prague', 0.62894964),\n",
       " ('munich', 0.66777843),\n",
       " ('paris', 0.6961338),\n",
       " ('berlin', 0.75474036),\n",
       " ('germany', 0.8027712)]"
      ]
     },
     "execution_count": 17,
     "metadata": {},
     "output_type": "execute_result"
    }
   ],
   "source": [
    "paris, france, germany = [nlp(w).vector for w in ['Paris', 'France', 'Germany']]\n",
    "answer = paris - france + germany\n",
    "mostSimilar(answer)"
   ]
  },
  {
   "cell_type": "markdown",
   "metadata": {},
   "source": [
    "# Senses"
   ]
  },
  {
   "cell_type": "code",
   "execution_count": 28,
   "metadata": {
    "ExecuteTime": {
     "end_time": "2019-02-06T15:53:43.423839Z",
     "start_time": "2019-02-06T15:53:43.374746Z"
    }
   },
   "outputs": [],
   "source": [
    "senseDocs = [nlp(w) for w in ['sound', 'sight', 'touch', 'smell']]\n",
    "def whichSense(word):\n",
    "    doc = nlp(word)\n",
    "    return {sense: doc.similarity(sense) for sense in senseDocs}\n"
   ]
  },
  {
   "cell_type": "code",
   "execution_count": 29,
   "metadata": {
    "ExecuteTime": {
     "end_time": "2019-02-06T15:53:45.596833Z",
     "start_time": "2019-02-06T15:53:45.581425Z"
    }
   },
   "outputs": [
    {
     "data": {
      "text/plain": [
       "{sound: 0.37716483832358116,\n",
       " sight: 0.20594012171222334,\n",
       " touch: 0.19551651130481998,\n",
       " smell: 0.1985263912275575}"
      ]
     },
     "execution_count": 29,
     "metadata": {},
     "output_type": "execute_result"
    }
   ],
   "source": [
    "whichSense('symphony')"
   ]
  },
  {
   "cell_type": "code",
   "execution_count": 30,
   "metadata": {
    "ExecuteTime": {
     "end_time": "2019-02-06T15:53:59.869771Z",
     "start_time": "2019-02-06T15:53:59.863230Z"
    }
   },
   "outputs": [],
   "source": [
    "%matplotlib inline\n",
    "plt.rcParams[\"figure.figsize\"] = (14,8)"
   ]
  },
  {
   "cell_type": "code",
   "execution_count": 31,
   "metadata": {
    "ExecuteTime": {
     "end_time": "2019-02-06T15:54:01.823446Z",
     "start_time": "2019-02-06T15:54:01.527563Z"
    }
   },
   "outputs": [
    {
     "data": {
      "text/plain": [
       "<matplotlib.axes._subplots.AxesSubplot at 0x1a271119b0>"
      ]
     },
     "execution_count": 31,
     "metadata": {},
     "output_type": "execute_result"
    },
    {
     "data": {
      "image/png": "[encoded data removed]",
      "text/plain": [
       "<Figure size 1008x576 with 1 Axes>"
      ]
     },
     "metadata": {
      "needs_background": "light"
     },
     "output_type": "display_data"
    }
   ],
   "source": [
    "testWords = 'symphony itchy flower crash'.split()\n",
    "pd.DataFrame([whichSense(w) for w in testWords], index=testWords).plot(kind='bar')"
   ]
  }
 ],
 "metadata": {
  "kernelspec": {
   "display_name": "Python 3",
   "language": "python",
   "name": "python3"
  },
  "language_info": {
   "codemirror_mode": {
    "name": "ipython",
    "version": 3
   },
   "file_extension": ".py",
   "mimetype": "text/x-python",
   "name": "python",
   "nbconvert_exporter": "python",
   "pygments_lexer": "ipython3",
   "version": "3.6.6"
  },
  "varInspector": {
   "cols": {
    "lenName": 16,
    "lenType": 16,
    "lenVar": 40
   },
   "kernels_config": {
    "python": {
     "delete_cmd_postfix": "",
     "delete_cmd_prefix": "del ",
     "library": "var_list.py",
     "varRefreshCmd": "print(var_dic_list())"
    },
    "r": {
     "delete_cmd_postfix": ") ",
     "delete_cmd_prefix": "rm(",
     "library": "var_list.r",
     "varRefreshCmd": "cat(var_dic_list()) "
    }
   },
   "types_to_exclude": [
    "module",
    "function",
    "builtin_function_or_method",
    "instance",
    "_Feature"
   ],
   "window_display": false
  }
 },
 "nbformat": 4,
 "nbformat_minor": 2
}
